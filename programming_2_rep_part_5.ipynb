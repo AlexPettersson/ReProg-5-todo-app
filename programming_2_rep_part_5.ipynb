{
 "cells": [
  {
   "cell_type": "markdown",
   "metadata": {},
   "source": [
    "# Datastrukturer - Listor och Tuples\n",
    "\n",
    "## Repetition i Programmering, del 5\n"
   ]
  },
  {
   "cell_type": "markdown",
   "metadata": {},
   "source": [
    "### Listor i Python\n",
    "\n",
    "En lista är en ordnad samling av värden. Listor i Python är mycket flexibla och kan innehålla värden av olika datatyper, inklusive andra listor.\n"
   ]
  },
  {
   "cell_type": "code",
   "execution_count": 1,
   "metadata": {},
   "outputs": [
    {
     "name": "stdout",
     "output_type": "stream",
     "text": [
      "['apple', 'banana', 'lemon', 'orange', 'kiwi']\n"
     ]
    }
   ],
   "source": [
    "# Skapa en lista\n",
    "fruits = [\"apple\", \"banana\", \"lemon\", \"orange\", \"kiwi\"]\n",
    "print(fruits)"
   ]
  },
  {
   "cell_type": "markdown",
   "metadata": {},
   "source": [
    "#### Tillgång till värden i en lista\n",
    "\n",
    "Du kan få åtkomst till listelement genom att referera till dess indexnummer.\n"
   ]
  },
  {
   "cell_type": "code",
   "execution_count": null,
   "metadata": {},
   "outputs": [],
   "source": [
    "# Få tillgång till det andra elementet i listan\n",
    "print(fruits[1])"
   ]
  },
  {
   "cell_type": "markdown",
   "metadata": {},
   "source": [
    "#### Hantering av en befintlig lista\n",
    "\n",
    "När du arbetar med befintliga listor i Python, kan du utföra en mängd operationer för att modifiera, inspektera eller ändra ordningen på listans element. Nedan visas några vanliga operationer som kan utföras på en lista:\n"
   ]
  },
  {
   "cell_type": "code",
   "execution_count": null,
   "metadata": {},
   "outputs": [],
   "source": [
    "# Lägger till ett element i slutet av listan.\n",
    "\n",
    "fruits.append(\"pear\")\n",
    "print(fruits)\n",
    "\n",
    "# Lägger till ett element på en viss position\n",
    "fruits.insert(2, \"mango\")\n",
    "print(fruits)\n",
    "\n",
    "# Ta bort ett element\n",
    "fruits.remove(\"banana\")\n",
    "print(fruits)\n",
    "\n",
    "# Ta bort ett element på en viss position\n",
    "fruits.pop(2)\n",
    "print(fruits)\n",
    "\n",
    "# Hur många element finns det i listan?\n",
    "print(len(fruits))\n",
    "\n",
    "# Sortera listan\n",
    "fruits.sort()\n",
    "print(fruits)"
   ]
  },
  {
   "cell_type": "markdown",
   "metadata": {},
   "source": [
    "### Tuples i Python\n",
    "\n",
    "En tuple är en ordnad samling av värden. Tuples i Python är mycket flexibla och kan innehålla värden av olika datatyper, inklusive andra tuples.\n",
    "\n",
    "En tuple är en oföränderlig datastruktur, vilket innebär att du inte kan lägga till eller ta bort element från den efter att den har skapats.\n"
   ]
  },
  {
   "cell_type": "code",
   "execution_count": null,
   "metadata": {},
   "outputs": [],
   "source": [
    "# Skapa en tuple\n",
    "colors = (\"röd\", \"grön\", \"blå\")\n",
    "print(colors)"
   ]
  },
  {
   "cell_type": "markdown",
   "metadata": {},
   "source": [
    "#### Tillgång till värden i en tuple\n",
    "\n",
    "Liksom listor, kan du få åtkomst till element i en tuple genom att referera till dess indexnummer.\n"
   ]
  },
  {
   "cell_type": "code",
   "execution_count": null,
   "metadata": {},
   "outputs": [],
   "source": [
    "# Få tillgång till det första elementet i tuplen\n",
    "print(colors[0])"
   ]
  }
 ],
 "metadata": {
  "kernelspec": {
   "display_name": "Python 3",
   "language": "python",
   "name": "python3"
  },
  "language_info": {
   "codemirror_mode": {
    "name": "ipython",
    "version": 3
   },
   "file_extension": ".py",
   "mimetype": "text/x-python",
   "name": "python",
   "nbconvert_exporter": "python",
   "pygments_lexer": "ipython3",
   "version": "3.10.12"
  }
 },
 "nbformat": 4,
 "nbformat_minor": 2
}
